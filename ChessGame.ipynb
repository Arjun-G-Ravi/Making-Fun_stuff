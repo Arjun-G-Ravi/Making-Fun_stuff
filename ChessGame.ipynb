{
 "cells": [
  {
   "cell_type": "code",
   "execution_count": 41,
   "metadata": {},
   "outputs": [],
   "source": [
    "import chess\n",
    "from stockfish import Stockfish\n",
    "from IPython.display import display,clear_output\n"
   ]
  },
  {
   "cell_type": "code",
   "execution_count": 42,
   "metadata": {},
   "outputs": [],
   "source": [
    "board = chess.Board()"
   ]
  },
  {
   "cell_type": "code",
   "execution_count": 43,
   "metadata": {},
   "outputs": [
    {
     "name": "stdout",
     "output_type": "stream",
     "text": [
      "CHECKMATE\n"
     ]
    }
   ],
   "source": [
    "move = \"\"\n",
    "while move != \"quit\" and not board.is_checkmate():\n",
    "    display(board)\n",
    "    try:\n",
    "        move = input(\"Enter next move: \")\n",
    "        board.push_san(move)\n",
    "        clear_output()\n",
    "    except:\n",
    "        clear_output()\n",
    "        continue\n",
    "    \n",
    "    if board.is_checkmate():\n",
    "        print(\"CHECKMATE\")\n",
    "        display(board)\n",
    "    \n",
    "    "
   ]
  }
 ],
 "metadata": {
  "kernelspec": {
   "display_name": "base",
   "language": "python",
   "name": "python3"
  },
  "language_info": {
   "codemirror_mode": {
    "name": "ipython",
    "version": 3
   },
   "file_extension": ".py",
   "mimetype": "text/x-python",
   "name": "python",
   "nbconvert_exporter": "python",
   "pygments_lexer": "ipython3",
   "version": "3.9.7"
  },
  "orig_nbformat": 4,
  "vscode": {
   "interpreter": {
    "hash": "950b5653ccfc34417735dd321d006fd482b31f7611416c3d8236dc5b17587d3f"
   }
  }
 },
 "nbformat": 4,
 "nbformat_minor": 2
}
